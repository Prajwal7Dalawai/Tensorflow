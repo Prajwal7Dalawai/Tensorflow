{
 "cells": [
  {
   "cell_type": "markdown",
   "id": "74da7984-ddea-47ac-bc1a-e6e9e3e98600",
   "metadata": {},
   "source": [
    "# The Training Process\n",
    "So, we are almost done preparing our dataset and I feel as though it's a good time to explain how our model is trained. Specifically, how input data is fed to our model.\n",
    "\n",
    "For this specific model data is going to be streamed into it in small batches of 32. This means we will not feed the entire dataset to our model at once, but simply small batches of entries. We will feed these batches to our model multiple times according to the number of epochs.\n",
    "\n",
    "An epoch is simply one stream of our entire dataset. The number of epochs we define is the amount of times our model will see the entire dataset. We use multiple epochs in hope that after seeing the same data multiple times the model will better determine how to estimate it.\n",
    "\n",
    "Ex. if we have 10 ephocs, our model will see the same dataset 10 times.\n",
    "\n",
    "Since we need to feed our data in batches and multiple times, we need to create something called an input function. The input function simply defines how our dataset will be converted into batches at each epoch."
   ]
  },
  {
   "cell_type": "markdown",
   "id": "b59c03d7-ead2-4cbc-9aff-586723bd1eba",
   "metadata": {},
   "source": [
    "## Input Function\n",
    "The TensorFlow model we are going to use requires that the data we pass it comes in as a tf.data.Dataset object. This means we must create a input function that can convert our current pandas dataframe into that object.\n",
    "\n",
    "Below you'll see a seemingly complicated input function, this is straight from the TensorFlow documentation (<a>https://www.tensorflow.org/tutorials/estimator/linear</a>). I've commented as much as I can to make it understandble, but you may want to refer to the documentation for a detailed explination of each method."
   ]
  },
  {
   "cell_type": "code",
   "execution_count": null,
   "id": "6db5692e-4dab-4a07-bbb0-007501b41d36",
   "metadata": {},
   "outputs": [],
   "source": []
  }
 ],
 "metadata": {
  "kernelspec": {
   "display_name": "Python 3 (ipykernel)",
   "language": "python",
   "name": "python3"
  },
  "language_info": {
   "codemirror_mode": {
    "name": "ipython",
    "version": 3
   },
   "file_extension": ".py",
   "mimetype": "text/x-python",
   "name": "python",
   "nbconvert_exporter": "python",
   "pygments_lexer": "ipython3",
   "version": "3.12.4"
  }
 },
 "nbformat": 4,
 "nbformat_minor": 5
}
