{
 "cells": [
  {
   "cell_type": "markdown",
   "id": "74da7984-ddea-47ac-bc1a-e6e9e3e98600",
   "metadata": {},
   "source": [
    "# The Training Process\n",
    "So, we are almost done preparing our dataset and I feel as though it's a good time to explain how our model is trained. Specifically, how input data is fed to our model.\n",
    "\n",
    "For this specific model data is going to be streamed into it in small batches of 32. This means we will not feed the entire dataset to our model at once, but simply small batches of entries. We will feed these batches to our model multiple times according to the number of epochs.\n",
    "\n",
    "An epoch is simply one stream of our entire dataset. The number of epochs we define is the amount of times our model will see the entire dataset. We use multiple epochs in hope that after seeing the same data multiple times the model will better determine how to estimate it.\n",
    "\n",
    "Ex. if we have 10 ephocs, our model will see the same dataset 10 times.\n",
    "\n",
    "Since we need to feed our data in batches and multiple times, we need to create something called an input function. The input function simply defines how our dataset will be converted into batches at each epoch."
   ]
  },
  {
   "cell_type": "markdown",
   "id": "b59c03d7-ead2-4cbc-9aff-586723bd1eba",
   "metadata": {},
   "source": [
    "## Input Function\n",
    "The TensorFlow model we are going to use requires that the data we pass it comes in as a tf.data.Dataset object. This means we must create a input function that can convert our current pandas dataframe into that object.\n",
    "\n",
    "Below you'll see a seemingly complicated input function, this is straight from the TensorFlow documentation (<a>https://www.tensorflow.org/tutorials/estimator/linear</a>). I've commented as much as I can to make it understandble, but you may want to refer to the documentation for a detailed explination of each method.\n",
    "\n",
    "Now first let us input the data from dataset."
   ]
  },
  {
   "cell_type": "code",
   "execution_count": 27,
   "id": "948bb8fc-f263-401b-ab81-53424240c03e",
   "metadata": {
    "editable": true,
    "slideshow": {
     "slide_type": ""
    },
    "tags": []
   },
   "outputs": [
    {
     "name": "stdout",
     "output_type": "stream",
     "text": [
      "TensorFlow version: 2.17.0\n"
     ]
    }
   ],
   "source": [
    "from __future__ import absolute_import, division, print_function, unicode_literals\n",
    "\n",
    "import numpy as np\n",
    "import pandas as pd\n",
    "import matplotlib.pyplot as plt\n",
    "from IPython.display import clear_output\n",
    "from six.moves import urllib\n",
    "import tensorflow as tf\n",
    "import tensorflow.compat.v1 as fc\n",
    "from tensorflow.keras.layers import StringLookup, IntegerLookup, Normalization\n",
    "from tensorflow.keras import layers\n",
    "\n",
    "# Example TensorFlow usage\n",
    "print(\"TensorFlow version:\", tf.__version__)\n"
   ]
  },
  {
   "cell_type": "markdown",
   "id": "089d4c83",
   "metadata": {},
   "source": [
    "# Load the data"
   ]
  },
  {
   "cell_type": "code",
   "execution_count": 28,
   "id": "699f11ab-db89-4dd7-8883-9b99629e756d",
   "metadata": {},
   "outputs": [],
   "source": [
    "# Load the data\n",
    "dftrain = pd.read_csv('https://storage.googleapis.com/tf-datasets/titanic/train.csv')\n",
    "dfeval = pd.read_csv('https://storage.googleapis.com/tf-datasets/titanic/eval.csv')\n",
    "y_train = dftrain.pop('survived')\n",
    "y_eval = dfeval.pop('survived')\n",
    "\n",
    "CATEGORICAL_COLUMNS = ['sex', 'n_siblings_spouses', 'parch', 'class', 'deck', 'embark_town', 'alone']\n",
    "NUMERIC_COLUMNS = ['age', 'fare']\n",
    "\n",
    "# Convert categorical columns to string type to avoid any type issues\n",
    "dftrain[CATEGORICAL_COLUMNS] = dftrain[CATEGORICAL_COLUMNS].astype(str)\n",
    "dfeval[CATEGORICAL_COLUMNS] = dfeval[CATEGORICAL_COLUMNS].astype(str)"
   ]
  },
  {
   "cell_type": "markdown",
   "id": "1caaa6f8",
   "metadata": {},
   "source": [
    "# Preprocess data"
   ]
  },
  {
   "cell_type": "code",
   "execution_count": 30,
   "id": "cff35722-6ac2-43d8-a71e-33c3c42a5f75",
   "metadata": {},
   "outputs": [],
   "source": [
    "# Preprocessing layers\n",
    "preprocessing_layers = {}\n",
    "\n",
    "# Create StringLookup layers for categorical features\n",
    "for feature_name in CATEGORICAL_COLUMNS:\n",
    "  vocabulary = dftrain[feature_name].unique().tolist()\n",
    "  preprocessing_layers[feature_name] = StringLookup(vocabulary=vocabulary, output_mode='int')\n",
    "\n",
    "# Create Normalization layers for numeric features\n",
    "for feature_name in NUMERIC_COLUMNS:\n",
    "  normalizer = Normalization()\n",
    "  normalizer.adapt(dftrain[feature_name].values)\n",
    "  preprocessing_layers[feature_name] = normalizer\n",
    "\n",
    "# Function to preprocess the dataset\n",
    "def preprocess(features, label):\n",
    "  numeric_features = {}\n",
    "  for feature_name in NUMERIC_COLUMNS:\n",
    "    numeric_features[feature_name] = preprocessing_layers[feature_name](features[feature_name])\n",
    "  return numeric_features, label\n",
    "\n",
    "# Convert the DataFrame to a TensorFlow Dataset\n",
    "train_ds = tf.data.Dataset.from_tensor_slices((dict(dftrain), y_train))\n",
    "eval_ds = tf.data.Dataset.from_tensor_slices((dict(dfeval), y_eval))\n",
    "\n",
    "# Apply the preprocessing function to the datasets\n",
    "train_ds = train_ds.map(preprocess)\n",
    "eval_ds = eval_ds.map(preprocess).batch(1)\n",
    "\n",
    "# Batch the dataset\n",
    "train_ds = train_ds.batch(32)"
   ]
  },
  {
   "cell_type": "markdown",
   "id": "05e75d23-77d9-4d18-b7ec-3a1bc5c2af40",
   "metadata": {},
   "source": [
    "## Creating model"
   ]
  },
  {
   "cell_type": "code",
   "execution_count": 31,
   "id": "382c4ceb-ee87-4c27-860a-44b02741ca00",
   "metadata": {},
   "outputs": [],
   "source": [
    "# Define a simple model\n",
    "def first_layer(inputs):\n",
    "  age = inputs['age']\n",
    "  fare = inputs['fare']\n",
    "  # Check shapes (optional)\n",
    "  print(f\"age shape: {age.shape}\")\n",
    "  print(f\"fare shape: {fare.shape}\")\n",
    "  # Reshape if necessary ...\n",
    "  combined_features = tf.concat([age, fare], axis=-1)\n",
    "  return combined_features\n",
    "\n",
    "model = tf.keras.Sequential([\n",
    "  layers.Lambda(first_layer),  # Custom layer with input dictionary\n",
    "  layers.Dense(16, activation='relu'),\n",
    "  layers.Dense(1, activation='sigmoid')\n",
    "])\n",
    "\n",
    "model.compile(optimizer='adam', loss='binary_crossentropy', metrics=['accuracy'])"
   ]
  },
  {
   "cell_type": "markdown",
   "id": "22e5dbc9",
   "metadata": {},
   "source": [
    "# Train the model"
   ]
  },
  {
   "cell_type": "code",
   "execution_count": 32,
   "id": "6b73c289",
   "metadata": {},
   "outputs": [
    {
     "name": "stdout",
     "output_type": "stream",
     "text": [
      "Epoch 1/10\n",
      "\u001b[1m20/20\u001b[0m \u001b[32m━━━━━━━━━━━━━━━━━━━━\u001b[0m\u001b[37m\u001b[0m \u001b[1m1s\u001b[0m 2ms/step - accuracy: 0.5475 - loss: 144496208.0000   \n",
      "Epoch 2/10\n",
      "\u001b[1m20/20\u001b[0m \u001b[32m━━━━━━━━━━━━━━━━━━━━\u001b[0m\u001b[37m\u001b[0m \u001b[1m0s\u001b[0m 2ms/step - accuracy: 0.5644 - loss: 56208244.0000 \n",
      "Epoch 3/10\n",
      "\u001b[1m20/20\u001b[0m \u001b[32m━━━━━━━━━━━━━━━━━━━━\u001b[0m\u001b[37m\u001b[0m \u001b[1m0s\u001b[0m 1ms/step - accuracy: 0.5612 - loss: 132835656.0000 \n",
      "Epoch 4/10\n",
      "\u001b[1m20/20\u001b[0m \u001b[32m━━━━━━━━━━━━━━━━━━━━\u001b[0m\u001b[37m\u001b[0m \u001b[1m0s\u001b[0m 2ms/step - accuracy: 0.5860 - loss: 24223588.0000 \n",
      "Epoch 5/10\n",
      "\u001b[1m20/20\u001b[0m \u001b[32m━━━━━━━━━━━━━━━━━━━━\u001b[0m\u001b[37m\u001b[0m \u001b[1m0s\u001b[0m 2ms/step - accuracy: 0.5318 - loss: 25444878.0000 \n",
      "Epoch 6/10\n",
      "\u001b[1m20/20\u001b[0m \u001b[32m━━━━━━━━━━━━━━━━━━━━\u001b[0m\u001b[37m\u001b[0m \u001b[1m0s\u001b[0m 1ms/step - accuracy: 0.5388 - loss: 4310463.0000 \n",
      "Epoch 7/10\n",
      "\u001b[1m20/20\u001b[0m \u001b[32m━━━━━━━━━━━━━━━━━━━━\u001b[0m\u001b[37m\u001b[0m \u001b[1m0s\u001b[0m 2ms/step - accuracy: 0.5638 - loss: 3880836.2500 \n",
      "Epoch 8/10\n",
      "\u001b[1m20/20\u001b[0m \u001b[32m━━━━━━━━━━━━━━━━━━━━\u001b[0m\u001b[37m\u001b[0m \u001b[1m0s\u001b[0m 1ms/step - accuracy: 0.5621 - loss: 3622376.0000 \n",
      "Epoch 9/10\n",
      "\u001b[1m20/20\u001b[0m \u001b[32m━━━━━━━━━━━━━━━━━━━━\u001b[0m\u001b[37m\u001b[0m \u001b[1m0s\u001b[0m 1ms/step - accuracy: 0.5531 - loss: 4003047.2500 \n",
      "Epoch 10/10\n",
      "\u001b[1m20/20\u001b[0m \u001b[32m━━━━━━━━━━━━━━━━━━━━\u001b[0m\u001b[37m\u001b[0m \u001b[1m0s\u001b[0m 1ms/step - accuracy: 0.5154 - loss: 5352905.5000 \n"
     ]
    },
    {
     "data": {
      "text/plain": [
       "<keras.src.callbacks.history.History at 0x1fe0daabd40>"
      ]
     },
     "execution_count": 32,
     "metadata": {},
     "output_type": "execute_result"
    }
   ],
   "source": [
    "# Train the model\n",
    "model.fit(train_ds, epochs=10)"
   ]
  },
  {
   "cell_type": "markdown",
   "id": "855ca096",
   "metadata": {},
   "source": [
    "# Evaluate the model"
   ]
  },
  {
   "cell_type": "code",
   "execution_count": 33,
   "id": "e79e8e59",
   "metadata": {},
   "outputs": [
    {
     "name": "stdout",
     "output_type": "stream",
     "text": [
      "\u001b[1m264/264\u001b[0m \u001b[32m━━━━━━━━━━━━━━━━━━━━\u001b[0m\u001b[37m\u001b[0m \u001b[1m0s\u001b[0m 1ms/step - accuracy: 0.5732 - loss: 8902684.0000\n",
      "Test accuracy: 0.6553030014038086\n",
      "Model loss:  6704605.0\n"
     ]
    }
   ],
   "source": [
    "loss, accuracy = model.evaluate(eval_ds)\n",
    "print('Test accuracy:', accuracy)\n",
    "print(\"Model loss: \", loss)"
   ]
  },
  {
   "cell_type": "markdown",
   "id": "39bf7fb2",
   "metadata": {},
   "source": [
    "# Predict\n"
   ]
  },
  {
   "cell_type": "code",
   "execution_count": 56,
   "id": "3e8d24c6",
   "metadata": {},
   "outputs": [
    {
     "name": "stdout",
     "output_type": "stream",
     "text": [
      "\u001b[1m  1/264\u001b[0m \u001b[37m━━━━━━━━━━━━━━━━━━━━\u001b[0m \u001b[1m4s\u001b[0m 18ms/step"
     ]
    },
    {
     "name": "stdout",
     "output_type": "stream",
     "text": [
      "\u001b[1m264/264\u001b[0m \u001b[32m━━━━━━━━━━━━━━━━━━━━\u001b[0m\u001b[37m\u001b[0m \u001b[1m0s\u001b[0m 924us/step\n",
      "[array([0.], dtype=float32), array([0.50199735], dtype=float32), array([0.50199735], dtype=float32), array([0.], dtype=float32), array([0.], dtype=float32), array([0.], dtype=float32), array([1.], dtype=float32), array([0.], dtype=float32), array([1.], dtype=float32), array([0.], dtype=float32), array([0.], dtype=float32), array([0.], dtype=float32), array([0.50199735], dtype=float32), array([0.50199735], dtype=float32), array([0.], dtype=float32), array([0.50199735], dtype=float32), array([0.], dtype=float32), array([0.], dtype=float32), array([0.], dtype=float32), array([0.], dtype=float32), array([0.], dtype=float32), array([0.], dtype=float32), array([0.], dtype=float32), array([0.], dtype=float32), array([0.], dtype=float32), array([0.50199735], dtype=float32), array([0.50199735], dtype=float32), array([0.50199735], dtype=float32), array([1.], dtype=float32), array([0.50199735], dtype=float32), array([0.], dtype=float32), array([0.50199735], dtype=float32), array([0.], dtype=float32), array([0.], dtype=float32), array([0.50199735], dtype=float32), array([0.], dtype=float32), array([0.50199735], dtype=float32), array([0.], dtype=float32), array([0.50199735], dtype=float32), array([0.], dtype=float32), array([0.], dtype=float32), array([1.], dtype=float32), array([0.50199735], dtype=float32), array([0.50199735], dtype=float32), array([0.50199735], dtype=float32), array([1.], dtype=float32), array([0.], dtype=float32), array([0.50199735], dtype=float32), array([0.50199735], dtype=float32), array([0.50199735], dtype=float32), array([0.], dtype=float32), array([0.], dtype=float32), array([0.], dtype=float32), array([0.], dtype=float32), array([0.], dtype=float32), array([0.], dtype=float32), array([0.], dtype=float32), array([0.50199735], dtype=float32), array([0.], dtype=float32), array([0.], dtype=float32), array([0.50199735], dtype=float32), array([0.50199735], dtype=float32), array([0.], dtype=float32), array([0.50199735], dtype=float32), array([0.], dtype=float32), array([0.], dtype=float32), array([0.50199735], dtype=float32), array([0.50199735], dtype=float32), array([0.50199735], dtype=float32), array([0.], dtype=float32), array([0.50199735], dtype=float32), array([0.50199735], dtype=float32), array([0.], dtype=float32), array([0.], dtype=float32), array([0.], dtype=float32), array([0.], dtype=float32), array([0.], dtype=float32), array([0.], dtype=float32), array([0.], dtype=float32), array([0.50199735], dtype=float32), array([0.], dtype=float32), array([0.50199735], dtype=float32), array([0.], dtype=float32), array([0.50199735], dtype=float32), array([0.50199735], dtype=float32), array([0.50199735], dtype=float32), array([0.], dtype=float32), array([0.], dtype=float32), array([0.], dtype=float32), array([0.], dtype=float32), array([0.50199735], dtype=float32), array([0.50199735], dtype=float32), array([1.], dtype=float32), array([0.50199735], dtype=float32), array([1.], dtype=float32), array([0.50199735], dtype=float32), array([1.], dtype=float32), array([0.], dtype=float32), array([0.], dtype=float32), array([0.50199735], dtype=float32), array([0.], dtype=float32), array([0.50199735], dtype=float32), array([0.50199735], dtype=float32), array([1.], dtype=float32), array([0.], dtype=float32), array([0.], dtype=float32), array([1.], dtype=float32), array([0.50199735], dtype=float32), array([0.], dtype=float32), array([0.], dtype=float32), array([0.], dtype=float32), array([0.], dtype=float32), array([0.], dtype=float32), array([0.], dtype=float32), array([0.50199735], dtype=float32), array([1.], dtype=float32), array([0.], dtype=float32), array([0.], dtype=float32), array([0.], dtype=float32), array([0.50199735], dtype=float32), array([0.50199735], dtype=float32), array([0.], dtype=float32), array([0.50199735], dtype=float32), array([1.], dtype=float32), array([0.], dtype=float32), array([0.], dtype=float32), array([0.], dtype=float32), array([0.], dtype=float32), array([0.], dtype=float32), array([0.], dtype=float32), array([0.], dtype=float32), array([0.], dtype=float32), array([0.], dtype=float32), array([0.], dtype=float32), array([0.], dtype=float32), array([0.], dtype=float32), array([0.50199735], dtype=float32), array([0.], dtype=float32), array([0.50199735], dtype=float32), array([0.], dtype=float32), array([0.], dtype=float32), array([0.], dtype=float32), array([0.50199735], dtype=float32), array([0.50199735], dtype=float32), array([0.], dtype=float32), array([0.], dtype=float32), array([0.50199735], dtype=float32), array([0.50199735], dtype=float32), array([0.], dtype=float32), array([0.], dtype=float32), array([0.], dtype=float32), array([0.], dtype=float32), array([0.50199735], dtype=float32), array([0.50199735], dtype=float32), array([0.50199735], dtype=float32), array([0.], dtype=float32), array([0.50199735], dtype=float32), array([0.], dtype=float32), array([0.], dtype=float32), array([0.], dtype=float32), array([0.], dtype=float32), array([1.], dtype=float32), array([0.50199735], dtype=float32), array([0.], dtype=float32), array([0.], dtype=float32), array([0.50199735], dtype=float32), array([0.50199735], dtype=float32), array([0.], dtype=float32), array([0.50199735], dtype=float32), array([0.], dtype=float32), array([0.50199735], dtype=float32), array([0.], dtype=float32), array([0.50199735], dtype=float32), array([0.], dtype=float32), array([0.], dtype=float32), array([0.], dtype=float32), array([0.50199735], dtype=float32), array([0.], dtype=float32), array([0.50199735], dtype=float32), array([0.], dtype=float32), array([1.], dtype=float32), array([0.], dtype=float32), array([0.50199735], dtype=float32), array([0.50199735], dtype=float32), array([0.50199735], dtype=float32), array([0.], dtype=float32), array([0.50199735], dtype=float32), array([0.], dtype=float32), array([0.], dtype=float32), array([0.], dtype=float32), array([0.50199735], dtype=float32), array([0.], dtype=float32), array([0.50199735], dtype=float32), array([0.50199735], dtype=float32), array([0.], dtype=float32), array([0.], dtype=float32), array([0.50199735], dtype=float32), array([0.], dtype=float32), array([0.50199735], dtype=float32), array([0.50199735], dtype=float32), array([0.], dtype=float32), array([0.], dtype=float32), array([0.], dtype=float32), array([0.], dtype=float32), array([0.50199735], dtype=float32), array([1.], dtype=float32), array([0.], dtype=float32), array([0.], dtype=float32), array([0.50199735], dtype=float32), array([0.], dtype=float32), array([0.], dtype=float32), array([0.], dtype=float32), array([0.], dtype=float32), array([0.], dtype=float32), array([0.], dtype=float32), array([0.50199735], dtype=float32), array([0.50199735], dtype=float32), array([0.], dtype=float32), array([1.], dtype=float32), array([0.], dtype=float32), array([0.50199735], dtype=float32), array([0.], dtype=float32), array([1.], dtype=float32), array([0.], dtype=float32), array([0.50199735], dtype=float32), array([0.50199735], dtype=float32), array([0.], dtype=float32), array([0.], dtype=float32), array([0.], dtype=float32), array([0.], dtype=float32), array([0.50199735], dtype=float32), array([0.], dtype=float32), array([0.50199735], dtype=float32), array([0.], dtype=float32), array([0.], dtype=float32), array([0.], dtype=float32), array([0.50199735], dtype=float32), array([1.], dtype=float32), array([0.], dtype=float32), array([0.], dtype=float32), array([0.50199735], dtype=float32), array([0.], dtype=float32), array([0.], dtype=float32), array([0.], dtype=float32), array([0.50199735], dtype=float32), array([0.50199735], dtype=float32), array([1.], dtype=float32), array([0.50199735], dtype=float32), array([0.], dtype=float32), array([0.], dtype=float32), array([0.], dtype=float32), array([1.], dtype=float32), array([0.50199735], dtype=float32), array([0.], dtype=float32), array([0.], dtype=float32), array([0.50199735], dtype=float32), array([0.50199735], dtype=float32), array([0.], dtype=float32), array([0.50199735], dtype=float32), array([0.50199735], dtype=float32), array([0.], dtype=float32), array([0.50199735], dtype=float32), array([0.], dtype=float32), array([0.50199735], dtype=float32)]\n"
     ]
    }
   ],
   "source": [
    "result = list(model.predict(eval_ds))\n",
    "print(result)"
   ]
  },
  {
   "cell_type": "code",
   "execution_count": null,
   "id": "1b08ee42",
   "metadata": {},
   "outputs": [],
   "source": []
  }
 ],
 "metadata": {
  "kernelspec": {
   "display_name": "Python 3 (ipykernel)",
   "language": "python",
   "name": "python3"
  },
  "language_info": {
   "codemirror_mode": {
    "name": "ipython",
    "version": 3
   },
   "file_extension": ".py",
   "mimetype": "text/x-python",
   "name": "python",
   "nbconvert_exporter": "python",
   "pygments_lexer": "ipython3",
   "version": "3.12.4"
  }
 },
 "nbformat": 4,
 "nbformat_minor": 5
}
