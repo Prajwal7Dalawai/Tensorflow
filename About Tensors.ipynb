{
 "cells": [
  {
   "cell_type": "code",
   "execution_count": 3,
   "id": "99b85ca2-5ff8-4d07-bcd6-1258eff93852",
   "metadata": {},
   "outputs": [],
   "source": [
    "import tensorflow as tf"
   ]
  },
  {
   "cell_type": "markdown",
   "id": "691ce1f7-3aff-43fe-bc2c-7818f7099327",
   "metadata": {},
   "source": [
    "## Tensors\n",
    "* A tensor is a generalization of vectors and matrices to potentially higher dimensions. Internally,\n",
    "  TensorFlow represents tensors as n-dimensional arrays of base datatypes."
   ]
  },
  {
   "cell_type": "markdown",
   "id": "ed4d6f96-6b97-4da1-9164-01d3bcfd7936",
   "metadata": {},
   "source": [
    "## Creating Tensors\n",
    "Below is an example of how to create some different tensors.\n",
    "\n",
    "You simply define the value of the tensor and the datatype and you are good to go! It's worth mentioning that usually we deal with tensors of numeric data, it is quite rare to see string tensors.\n",
    "\n",
    "For a full list of datatypes please refer to the following guide.\n",
    "\n",
    "<a>https://www.tensorflow.org/api_docs/python/tf/dtypes/DType?version=stable</a>"
   ]
  },
  {
   "cell_type": "code",
   "execution_count": 6,
   "id": "4ea3acc8-7d4e-4995-88f7-e1de712aae12",
   "metadata": {},
   "outputs": [],
   "source": [
    "string = tf.Variable(\"This is a string\", tf.string)\n",
    "number = tf.Variable(324,tf.int16)\n",
    "floating = tf.Variable(3.567,tf.float64)"
   ]
  },
  {
   "cell_type": "markdown",
   "id": "6c7db3aa-f452-4d3e-a9f4-f079962216ce",
   "metadata": {},
   "source": [
    "## Rank/Degree of Tensors\n",
    "Another word for rank is degree, these terms simply mean the number of dimensions involved in the tensor. What we created above is a tensor of rank 0, also known as a scalar.\n",
    "\n",
    "Now we'll create some tensors of higher degrees/ranks."
   ]
  },
  {
   "cell_type": "code",
   "execution_count": 7,
   "id": "8c19f5ea-8de8-42c9-a1f0-f6c43aba1df9",
   "metadata": {},
   "outputs": [],
   "source": [
    "rank1_tensor = tf.Variable([\"Test\",\"Adam\",\"ok\"], tf.string) \n",
    "rank2_tensor = tf.Variable([[\"test\", \"ok\"], [\"test\", \"yes\"]], tf.string)"
   ]
  },
  {
   "cell_type": "markdown",
   "id": "19c85747-bc10-4d1e-91ac-deae9bc17842",
   "metadata": {},
   "source": [
    "#### Determining Rank of the sensor"
   ]
  },
  {
   "cell_type": "code",
   "execution_count": 10,
   "id": "3673384a-2b77-4f1a-9e57-1a57dfc6a705",
   "metadata": {},
   "outputs": [
    {
     "data": {
      "text/plain": [
       "<tf.Tensor: shape=(), dtype=int32, numpy=1>"
      ]
     },
     "execution_count": 10,
     "metadata": {},
     "output_type": "execute_result"
    }
   ],
   "source": [
    "tf.rank(rank2_tensor)\n",
    "tf.rank(rank1_tensor)"
   ]
  },
  {
   "cell_type": "markdown",
   "id": "bb70520b-286d-403a-9828-f49e6976ea39",
   "metadata": {},
   "source": [
    "# Shape of the Tensor\n",
    "It is how many items we have in each dimension.\n",
    "\n",
    "Now that we've talked about the rank of tensors it's time to talk about the shape. The shape of a tensor is simply the number of elements that exist in each dimension. TensorFlow will try to determine the shape of a tensor but sometimes it may be unknown.\n",
    "\n",
    "To get the shape of a tensor we use the shape attribute."
   ]
  },
  {
   "cell_type": "code",
   "execution_count": 16,
   "id": "452e41a0-e7c4-43e4-8492-3cdcfe3d2d9a",
   "metadata": {},
   "outputs": [
    {
     "name": "stdout",
     "output_type": "stream",
     "text": [
      "(2, 2)\n",
      "(1,)\n"
     ]
    }
   ],
   "source": [
    "print(rank2_tensor.shape)\n",
    "print(rank1_tensor.shape)"
   ]
  },
  {
   "cell_type": "markdown",
   "id": "78e0c2d5-750b-4beb-b246-67f0e4bade08",
   "metadata": {},
   "source": [
    "# Changing Shape of the tensor\n",
    "The number of elements of a tensor is the product of the sizes of all its shapes. There are often many shapes that have the same number of elements, making it convient to be able to change the shape of a tensor.\n",
    "\n",
    "The example below shows how to change the shape of a tensor."
   ]
  },
  {
   "cell_type": "code",
   "execution_count": 19,
   "id": "7685f1ce-7b9e-43e8-b52a-824c68a526fa",
   "metadata": {},
   "outputs": [
    {
     "name": "stdout",
     "output_type": "stream",
     "text": [
      "tf.Tensor(\n",
      "[[[1. 1. 1.]\n",
      "  [1. 1. 1.]]], shape=(1, 2, 3), dtype=float32)\n",
      "tf.Tensor(\n",
      "[[[1.]\n",
      "  [1.]\n",
      "  [1.]]\n",
      "\n",
      " [[1.]\n",
      "  [1.]\n",
      "  [1.]]], shape=(2, 3, 1), dtype=float32)\n",
      "tf.Tensor(\n",
      "[[1. 1.]\n",
      " [1. 1.]\n",
      " [1. 1.]], shape=(3, 2), dtype=float32)\n"
     ]
    }
   ],
   "source": [
    "tensor1 = tf.ones([1,2,3])    # tf.ones() creates a shape [1,2,3] tensor full of ones\n",
    "tensor2 = tf.reshape(tensor1,[2,3,1])   # reshape existing data to shape [2,3,1]\n",
    "tensor3 = tf.reshape(tensor2, [3,-1])   # -1 tells the tensor to calculate the size of the dimension in that place this will reshape the tensor to [3,2]\n",
    "# The numer of elements in the reshaped tensor MUST match the number in the original\n",
    "\n",
    "print(tensor1)\n",
    "print(tensor2)\n",
    "print(tensor3)\n"
   ]
  },
  {
   "cell_type": "markdown",
   "id": "4dc76128-b61b-432f-a44e-38ca0ee34f9e",
   "metadata": {},
   "source": [
    "# Slicing Tensors\n",
    "The slice operator can be used on tensors to select specific axes or elements.\n",
    "\n",
    "When we slice or select elements from a tensor, we can use comma seperated values inside the set of square brackets. Each subsequent value refrences a different dimension of the tensor.\n",
    "\n",
    "Ex: tensor[dim1, dim2, dim3]"
   ]
  },
  {
   "cell_type": "code",
   "execution_count": 24,
   "id": "72d6c240-9701-4386-84a2-90e633472972",
   "metadata": {},
   "outputs": [
    {
     "name": "stdout",
     "output_type": "stream",
     "text": [
      "<tf.Variable 'Variable:0' shape=(4, 5) dtype=int32, numpy=\n",
      "array([[ 1,  2,  3,  4,  5],\n",
      "       [ 6,  7,  8,  9, 10],\n",
      "       [11, 12, 13, 14, 15],\n",
      "       [16, 17, 18, 19, 20]])>\n",
      "tf.Tensor(2, shape=(), dtype=int32)\n",
      "(4, 5)\n"
     ]
    }
   ],
   "source": [
    "# Creating a 2D tensor\n",
    "matrix = [[1,2,3,4,5],\n",
    "          [6,7,8,9,10],\n",
    "          [11,12,13,14,15],\n",
    "          [16,17,18,19,20]]\n",
    "\n",
    "tensor = tf.Variable(matrix, dtype=tf.int32) \n",
    "print(tensor)\n",
    "print(tf.rank(tensor))\n",
    "print(tensor.shape)"
   ]
  },
  {
   "cell_type": "code",
   "execution_count": 23,
   "id": "e8c9e12d-0b0d-4e77-8d8c-efc628b2d2ce",
   "metadata": {},
   "outputs": [
    {
     "name": "stdout",
     "output_type": "stream",
     "text": [
      "tf.Tensor(3, shape=(), dtype=int32)\n",
      "tf.Tensor([1 2 3 4 5], shape=(5,), dtype=int32)\n",
      "tf.Tensor([ 1  6 11 16], shape=(4,), dtype=int32)\n",
      "tf.Tensor(\n",
      "[[ 6  7  8  9 10]\n",
      " [16 17 18 19 20]], shape=(2, 5), dtype=int32)\n",
      "tf.Tensor([ 6 11], shape=(2,), dtype=int32)\n"
     ]
    }
   ],
   "source": [
    "# Now lets select some different rows and columns from our tensor\n",
    "\n",
    "three = tensor[0,2]  # selects the 3rd element from the 1st row\n",
    "print(three)  # -> 3\n",
    "\n",
    "row1 = tensor[0]  # selects the first row\n",
    "print(row1)\n",
    "\n",
    "column1 = tensor[:, 0]  # selects the first column\n",
    "print(column1)\n",
    "\n",
    "row_2_and_4 = tensor[1::2]  # selects second and fourth row\n",
    "print(row_2_and_4)\n",
    "\n",
    "column_1_in_row_2_and_3 = tensor[1:3, 0]\n",
    "print(column_1_in_row_2_and_3)\n"
   ]
  },
  {
   "cell_type": "markdown",
   "id": "71a8b175-432b-452f-9645-8f743e60a68c",
   "metadata": {},
   "source": [
    "## Types of Tensors\n",
    "Before we go to far, I will mention that there are diffent types of tensors. These are the most used and we will talk more in depth about each as they are used.\n",
    "\n",
    "Variable\n",
    "Constant\n",
    "Placeholder\n",
    "SparseTensor\n",
    "With the execption of Variable all these tensors are immuttable, meaning their value may not change during execution.\n",
    "\n",
    "For now, it is enough to understand that we use the Variable tensor when we want to potentially change the value of our tensor."
   ]
  }
 ],
 "metadata": {
  "kernelspec": {
   "display_name": "Python 3 (ipykernel)",
   "language": "python",
   "name": "python3"
  },
  "language_info": {
   "codemirror_mode": {
    "name": "ipython",
    "version": 3
   },
   "file_extension": ".py",
   "mimetype": "text/x-python",
   "name": "python",
   "nbconvert_exporter": "python",
   "pygments_lexer": "ipython3",
   "version": "3.12.4"
  }
 },
 "nbformat": 4,
 "nbformat_minor": 5
}
